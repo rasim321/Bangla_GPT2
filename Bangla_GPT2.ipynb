{
  "nbformat": 4,
  "nbformat_minor": 0,
  "metadata": {
    "colab": {
      "name": "Bangla_GPT2.ipynb",
      "provenance": [],
      "collapsed_sections": [],
      "authorship_tag": "ABX9TyNBV7Jw1xXB1csU/x4iNWtM",
      "include_colab_link": true
    },
    "kernelspec": {
      "name": "python3",
      "display_name": "Python 3"
    },
    "language_info": {
      "name": "python"
    },
    "accelerator": "GPU"
  },
  "cells": [
    {
      "cell_type": "markdown",
      "metadata": {
        "id": "view-in-github",
        "colab_type": "text"
      },
      "source": [
        "<a href=\"https://colab.research.google.com/github/rasim321/Bangla_GPT2/blob/master/Bangla_GPT2.ipynb\" target=\"_parent\"><img src=\"https://colab.research.google.com/assets/colab-badge.svg\" alt=\"Open In Colab\"/></a>"
      ]
    },
    {
      "cell_type": "code",
      "metadata": {
        "colab": {
          "base_uri": "https://localhost:8080/"
        },
        "id": "8GFsYf30MvJ1",
        "outputId": "ab16a169-d541-4864-efca-5d21dffe3257"
      },
      "source": [
        "!pip install tokenizers\n",
        "!pip install transformers"
      ],
      "execution_count": 1,
      "outputs": [
        {
          "output_type": "stream",
          "text": [
            "Collecting tokenizers\n",
            "\u001b[?25l  Downloading https://files.pythonhosted.org/packages/d4/e2/df3543e8ffdab68f5acc73f613de9c2b155ac47f162e725dcac87c521c11/tokenizers-0.10.3-cp37-cp37m-manylinux_2_5_x86_64.manylinux1_x86_64.manylinux_2_12_x86_64.manylinux2010_x86_64.whl (3.3MB)\n",
            "\u001b[K     |████████████████████████████████| 3.3MB 8.0MB/s \n",
            "\u001b[?25hInstalling collected packages: tokenizers\n",
            "Successfully installed tokenizers-0.10.3\n",
            "Collecting transformers\n",
            "\u001b[?25l  Downloading https://files.pythonhosted.org/packages/d5/43/cfe4ee779bbd6a678ac6a97c5a5cdeb03c35f9eaebbb9720b036680f9a2d/transformers-4.6.1-py3-none-any.whl (2.2MB)\n",
            "\u001b[K     |████████████████████████████████| 2.3MB 7.9MB/s \n",
            "\u001b[?25hRequirement already satisfied: tokenizers<0.11,>=0.10.1 in /usr/local/lib/python3.7/dist-packages (from transformers) (0.10.3)\n",
            "Requirement already satisfied: requests in /usr/local/lib/python3.7/dist-packages (from transformers) (2.23.0)\n",
            "Requirement already satisfied: tqdm>=4.27 in /usr/local/lib/python3.7/dist-packages (from transformers) (4.41.1)\n",
            "Collecting sacremoses\n",
            "\u001b[?25l  Downloading https://files.pythonhosted.org/packages/75/ee/67241dc87f266093c533a2d4d3d69438e57d7a90abb216fa076e7d475d4a/sacremoses-0.0.45-py3-none-any.whl (895kB)\n",
            "\u001b[K     |████████████████████████████████| 901kB 51.0MB/s \n",
            "\u001b[?25hRequirement already satisfied: filelock in /usr/local/lib/python3.7/dist-packages (from transformers) (3.0.12)\n",
            "Requirement already satisfied: regex!=2019.12.17 in /usr/local/lib/python3.7/dist-packages (from transformers) (2019.12.20)\n",
            "Requirement already satisfied: packaging in /usr/local/lib/python3.7/dist-packages (from transformers) (20.9)\n",
            "Requirement already satisfied: numpy>=1.17 in /usr/local/lib/python3.7/dist-packages (from transformers) (1.19.5)\n",
            "Collecting huggingface-hub==0.0.8\n",
            "  Downloading https://files.pythonhosted.org/packages/a1/88/7b1e45720ecf59c6c6737ff332f41c955963090a18e72acbcbeac6b25e86/huggingface_hub-0.0.8-py3-none-any.whl\n",
            "Requirement already satisfied: importlib-metadata; python_version < \"3.8\" in /usr/local/lib/python3.7/dist-packages (from transformers) (4.0.1)\n",
            "Requirement already satisfied: urllib3!=1.25.0,!=1.25.1,<1.26,>=1.21.1 in /usr/local/lib/python3.7/dist-packages (from requests->transformers) (1.24.3)\n",
            "Requirement already satisfied: idna<3,>=2.5 in /usr/local/lib/python3.7/dist-packages (from requests->transformers) (2.10)\n",
            "Requirement already satisfied: chardet<4,>=3.0.2 in /usr/local/lib/python3.7/dist-packages (from requests->transformers) (3.0.4)\n",
            "Requirement already satisfied: certifi>=2017.4.17 in /usr/local/lib/python3.7/dist-packages (from requests->transformers) (2020.12.5)\n",
            "Requirement already satisfied: click in /usr/local/lib/python3.7/dist-packages (from sacremoses->transformers) (7.1.2)\n",
            "Requirement already satisfied: six in /usr/local/lib/python3.7/dist-packages (from sacremoses->transformers) (1.15.0)\n",
            "Requirement already satisfied: joblib in /usr/local/lib/python3.7/dist-packages (from sacremoses->transformers) (1.0.1)\n",
            "Requirement already satisfied: pyparsing>=2.0.2 in /usr/local/lib/python3.7/dist-packages (from packaging->transformers) (2.4.7)\n",
            "Requirement already satisfied: zipp>=0.5 in /usr/local/lib/python3.7/dist-packages (from importlib-metadata; python_version < \"3.8\"->transformers) (3.4.1)\n",
            "Requirement already satisfied: typing-extensions>=3.6.4; python_version < \"3.8\" in /usr/local/lib/python3.7/dist-packages (from importlib-metadata; python_version < \"3.8\"->transformers) (3.7.4.3)\n",
            "Installing collected packages: sacremoses, huggingface-hub, transformers\n",
            "Successfully installed huggingface-hub-0.0.8 sacremoses-0.0.45 transformers-4.6.1\n"
          ],
          "name": "stdout"
        }
      ]
    },
    {
      "cell_type": "code",
      "metadata": {
        "id": "1eDzZSRTKC4k"
      },
      "source": [
        "import os\n",
        "from tokenizers.models import BPE\n",
        "from tokenizers import Tokenizer\n",
        "from tokenizers.decoders import ByteLevel as ByteLevelDecoder\n",
        "from tokenizers.normalizers import NFKC, Sequence\n",
        "from tokenizers.pre_tokenizers import ByteLevel\n",
        "from tokenizers.trainers import BpeTrainer\n",
        "\n",
        "class BPE_token(object):\n",
        "    def __init__(self):\n",
        "        self.tokenizer = Tokenizer(BPE())\n",
        "        self.tokenizer.normalizer = NFKC()\n",
        "        self.tokenizer.pre_tokenizer = ByteLevel()\n",
        "        self.tokenizer.decoder = ByteLevelDecoder()\n",
        "\n",
        "    def bpe_train(self, paths):\n",
        "        trainer = BpeTrainer(vocab_size=50000, show_progress=True, inital_alphabet=ByteLevel.alphabet(), special_tokens=[\n",
        "            \"<s>\",\n",
        "            \"<pad>\",\n",
        "            \"</s>\",\n",
        "            \"<unk>\",\n",
        "            \"<mask>\"\n",
        "        ])\n",
        "        self.tokenizer.train(paths, trainer)\n",
        "\n",
        "    def save_tokenizer(self, location, prefix=None):\n",
        "        if not os.path.exists(location):\n",
        "            os.makedirs(location)\n",
        "        self.tokenizer.model.save(location, prefix)\n"
      ],
      "execution_count": 2,
      "outputs": []
    },
    {
      "cell_type": "code",
      "metadata": {
        "id": "UM8Df5obQZEE"
      },
      "source": [
        "import glob\n",
        "paths = glob.glob('/content/*.txt')\n",
        "\n",
        "# for i in glob.glob('/content/*.txt'):\n",
        "#   with open(i, 'r') as file:\n",
        "#       paths.append(str(file.read().replace('\\n', '')))\n"
      ],
      "execution_count": 14,
      "outputs": []
    },
    {
      "cell_type": "code",
      "metadata": {
        "id": "td5Gko22N8c0"
      },
      "source": [
        "from pathlib import Path\n",
        "import os\n",
        "\n",
        "# the folder 'text' contains all the files\n",
        "tokenizer = BPE_token()\n",
        "# train the tokenizer model\n",
        "tokenizer.bpe_train(glob.glob('/content/*.txt'))\n",
        "# saving the tokenized data in our specified folder \n",
        "save_path = 'tokenized_data'\n",
        "tokenizer.save_tokenizer(save_path)"
      ],
      "execution_count": 15,
      "outputs": []
    },
    {
      "cell_type": "code",
      "metadata": {
        "id": "o1ZHHZisyeIj"
      },
      "source": [
        "import tensorflow as tf\n",
        "from transformers import GPT2Config, TFGPT2LMHeadModel, GPT2Tokenizer\n",
        "# loading tokenizer from the saved model path\n",
        "tokenizer = GPT2Tokenizer.from_pretrained(save_path)\n",
        "tokenizer.add_special_tokens({\n",
        "  \"eos_token\": \"</s>\",\n",
        "  \"bos_token\": \"<s>\",\n",
        "  \"unk_token\": \"<unk>\",\n",
        "  \"pad_token\": \"<pad>\",\n",
        "  \"mask_token\": \"<mask>\"\n",
        "})\n",
        "# creating the configurations from which the model can be made\n",
        "config = GPT2Config(\n",
        "  vocab_size=tokenizer.vocab_size,\n",
        "  bos_token_id=tokenizer.bos_token_id,\n",
        "  eos_token_id=tokenizer.eos_token_id\n",
        ")\n",
        "# creating the model\n",
        "model = TFGPT2LMHeadModel(config)"
      ],
      "execution_count": 16,
      "outputs": []
    },
    {
      "cell_type": "code",
      "metadata": {
        "id": "QDm6y3xAQWl6"
      },
      "source": [
        "single_string = ''\n",
        "for filename in paths:\n",
        "  with open(filename, \"r\", encoding='utf-8') as f:\n",
        "   x = f.read()\n",
        "  single_string += x + tokenizer.eos_token\n",
        "string_tokenized = tokenizer.encode(single_string)"
      ],
      "execution_count": 17,
      "outputs": []
    },
    {
      "cell_type": "code",
      "metadata": {
        "id": "vTIyWCZz39Iu"
      },
      "source": [
        "examples = []\n",
        "block_size = 100\n",
        "BATCH_SIZE = 12\n",
        "BUFFER_SIZE = 1000\n",
        "for i in range(0, len(string_tokenized) - block_size + 1, block_size):\n",
        "  examples.append(string_tokenized[i:i + block_size])\n",
        "inputs, labels = [], []\n",
        "for ex in examples:\n",
        "  inputs.append(ex[:-1])\n",
        "  labels.append(ex[1:])\n",
        "dataset = tf.data.Dataset.from_tensor_slices((inputs, labels))\n",
        "dataset = dataset.shuffle(BUFFER_SIZE).batch(BATCH_SIZE, drop_remainder=True)"
      ],
      "execution_count": 18,
      "outputs": []
    },
    {
      "cell_type": "code",
      "metadata": {
        "id": "Eh4ejgvm4Yd1"
      },
      "source": [
        "learning_rate = 3e-5\n",
        "epsilon = 1e-08\n",
        "clipnorm = 1.0\n",
        "epochs = 30\n",
        "\n",
        "# defining our optimizer\n",
        "optimizer = tf.keras.optimizers.Adam(learning_rate=learning_rate, epsilon=epsilon, clipnorm=clipnorm)\n",
        "# definining our loss function\n",
        "loss = tf.keras.losses.SparseCategoricalCrossentropy(from_logits=True)\n",
        "# defining our metric which we want to observe\n",
        "metric = tf.keras.metrics.SparseCategoricalAccuracy('accuracy')\n",
        "# compiling the model\n",
        "model.compile(optimizer=optimizer, loss=[loss, *[None] * model.config.n_layer], metrics=[metric])"
      ],
      "execution_count": 24,
      "outputs": []
    },
    {
      "cell_type": "code",
      "metadata": {
        "colab": {
          "base_uri": "https://localhost:8080/"
        },
        "id": "BxDc5YEa43Rw",
        "outputId": "d2f33706-19e1-4c15-c755-3ccbc51b0cbc"
      },
      "source": [
        "num_epoch = 10\n",
        "history = model.fit(dataset, epochs=num_epoch)"
      ],
      "execution_count": 25,
      "outputs": [
        {
          "output_type": "stream",
          "text": [
            "Epoch 1/10\n",
            "WARNING:tensorflow:The parameters `output_attentions`, `output_hidden_states` and `use_cache` cannot be updated when calling a model.They have to be set to True/False in the config object (i.e.: `config=XConfig.from_pretrained('name', output_attentions=True)`).\n",
            "WARNING:tensorflow:The parameter `return_dict` cannot be set in graph mode and will always be set to `True`.\n",
            "WARNING:tensorflow:The parameters `output_attentions`, `output_hidden_states` and `use_cache` cannot be updated when calling a model.They have to be set to True/False in the config object (i.e.: `config=XConfig.from_pretrained('name', output_attentions=True)`).\n",
            "WARNING:tensorflow:The parameter `return_dict` cannot be set in graph mode and will always be set to `True`.\n",
            "1270/1270 [==============================] - 359s 274ms/step - loss: 1.9283 - logits_loss: 1.9283 - logits_accuracy: 0.5381 - past_key_values_1_accuracy: 1.2574e-04 - past_key_values_2_accuracy: 1.6631e-04 - past_key_values_3_accuracy: 1.4767e-04 - past_key_values_4_accuracy: 1.6390e-04 - past_key_values_5_accuracy: 1.4642e-04 - past_key_values_6_accuracy: 1.3847e-04 - past_key_values_7_accuracy: 1.2822e-04 - past_key_values_8_accuracy: 1.3745e-04 - past_key_values_9_accuracy: 1.3643e-04 - past_key_values_10_accuracy: 1.5877e-04 - past_key_values_11_accuracy: 1.3433e-04 - past_key_values_12_accuracy: 1.4049e-04\n",
            "Epoch 2/10\n",
            "1270/1270 [==============================] - 348s 274ms/step - loss: 1.8721 - logits_loss: 1.8721 - logits_accuracy: 0.5477 - past_key_values_1_accuracy: 1.2345e-04 - past_key_values_2_accuracy: 1.6089e-04 - past_key_values_3_accuracy: 1.4093e-04 - past_key_values_4_accuracy: 1.7050e-04 - past_key_values_5_accuracy: 1.4938e-04 - past_key_values_6_accuracy: 1.4330e-04 - past_key_values_7_accuracy: 1.3281e-04 - past_key_values_8_accuracy: 1.4054e-04 - past_key_values_9_accuracy: 1.4129e-04 - past_key_values_10_accuracy: 1.5333e-04 - past_key_values_11_accuracy: 1.3115e-04 - past_key_values_12_accuracy: 1.4173e-04\n",
            "Epoch 3/10\n",
            "1270/1270 [==============================] - 346s 272ms/step - loss: 1.8177 - logits_loss: 1.8177 - logits_accuracy: 0.5578 - past_key_values_1_accuracy: 1.2113e-04 - past_key_values_2_accuracy: 1.7084e-04 - past_key_values_3_accuracy: 1.4935e-04 - past_key_values_4_accuracy: 1.6730e-04 - past_key_values_5_accuracy: 1.4601e-04 - past_key_values_6_accuracy: 1.4573e-04 - past_key_values_7_accuracy: 1.3306e-04 - past_key_values_8_accuracy: 1.2889e-04 - past_key_values_9_accuracy: 1.3830e-04 - past_key_values_10_accuracy: 1.6244e-04 - past_key_values_11_accuracy: 1.3121e-04 - past_key_values_12_accuracy: 1.4214e-04\n",
            "Epoch 4/10\n",
            "1270/1270 [==============================] - 348s 274ms/step - loss: 1.7657 - logits_loss: 1.7657 - logits_accuracy: 0.5674 - past_key_values_1_accuracy: 1.1842e-04 - past_key_values_2_accuracy: 1.7619e-04 - past_key_values_3_accuracy: 1.4521e-04 - past_key_values_4_accuracy: 1.6863e-04 - past_key_values_5_accuracy: 1.5206e-04 - past_key_values_6_accuracy: 1.3858e-04 - past_key_values_7_accuracy: 1.3386e-04 - past_key_values_8_accuracy: 1.3289e-04 - past_key_values_9_accuracy: 1.3085e-04 - past_key_values_10_accuracy: 1.5855e-04 - past_key_values_11_accuracy: 1.3852e-04 - past_key_values_12_accuracy: 1.3905e-04\n",
            "Epoch 5/10\n",
            "1270/1270 [==============================] - 348s 274ms/step - loss: 1.7148 - logits_loss: 1.7148 - logits_accuracy: 0.5775 - past_key_values_1_accuracy: 1.1397e-04 - past_key_values_2_accuracy: 1.6910e-04 - past_key_values_3_accuracy: 1.4653e-04 - past_key_values_4_accuracy: 1.7017e-04 - past_key_values_5_accuracy: 1.5399e-04 - past_key_values_6_accuracy: 1.4775e-04 - past_key_values_7_accuracy: 1.3286e-04 - past_key_values_8_accuracy: 1.3557e-04 - past_key_values_9_accuracy: 1.3198e-04 - past_key_values_10_accuracy: 1.5741e-04 - past_key_values_11_accuracy: 1.3670e-04 - past_key_values_12_accuracy: 1.3941e-04\n",
            "Epoch 6/10\n",
            "1270/1270 [==============================] - 347s 273ms/step - loss: 1.6644 - logits_loss: 1.6644 - logits_accuracy: 0.5873 - past_key_values_1_accuracy: 1.1472e-04 - past_key_values_2_accuracy: 1.6280e-04 - past_key_values_3_accuracy: 1.4239e-04 - past_key_values_4_accuracy: 1.7053e-04 - past_key_values_5_accuracy: 1.5366e-04 - past_key_values_6_accuracy: 1.4394e-04 - past_key_values_7_accuracy: 1.3676e-04 - past_key_values_8_accuracy: 1.3590e-04 - past_key_values_9_accuracy: 1.3228e-04 - past_key_values_10_accuracy: 1.5855e-04 - past_key_values_11_accuracy: 1.4060e-04 - past_key_values_12_accuracy: 1.4029e-04\n",
            "Epoch 7/10\n",
            "1270/1270 [==============================] - 348s 274ms/step - loss: 1.6151 - logits_loss: 1.6151 - logits_accuracy: 0.5970 - past_key_values_1_accuracy: 1.1580e-04 - past_key_values_2_accuracy: 1.6324e-04 - past_key_values_3_accuracy: 1.4612e-04 - past_key_values_4_accuracy: 1.7362e-04 - past_key_values_5_accuracy: 1.5195e-04 - past_key_values_6_accuracy: 1.4750e-04 - past_key_values_7_accuracy: 1.3662e-04 - past_key_values_8_accuracy: 1.3759e-04 - past_key_values_9_accuracy: 1.3168e-04 - past_key_values_10_accuracy: 1.5476e-04 - past_key_values_11_accuracy: 1.4054e-04 - past_key_values_12_accuracy: 1.4383e-04\n",
            "Epoch 8/10\n",
            "1270/1270 [==============================] - 347s 274ms/step - loss: 1.5641 - logits_loss: 1.5641 - logits_accuracy: 0.6069 - past_key_values_1_accuracy: 1.1436e-04 - past_key_values_2_accuracy: 1.6368e-04 - past_key_values_3_accuracy: 1.4247e-04 - past_key_values_4_accuracy: 1.7255e-04 - past_key_values_5_accuracy: 1.4836e-04 - past_key_values_6_accuracy: 1.4697e-04 - past_key_values_7_accuracy: 1.4200e-04 - past_key_values_8_accuracy: 1.3466e-04 - past_key_values_9_accuracy: 1.3366e-04 - past_key_values_10_accuracy: 1.5788e-04 - past_key_values_11_accuracy: 1.3825e-04 - past_key_values_12_accuracy: 1.3822e-04\n",
            "Epoch 9/10\n",
            "1270/1270 [==============================] - 348s 274ms/step - loss: 1.5137 - logits_loss: 1.5137 - logits_accuracy: 0.6175 - past_key_values_1_accuracy: 1.1828e-04 - past_key_values_2_accuracy: 1.6448e-04 - past_key_values_3_accuracy: 1.4352e-04 - past_key_values_4_accuracy: 1.8108e-04 - past_key_values_5_accuracy: 1.4786e-04 - past_key_values_6_accuracy: 1.4670e-04 - past_key_values_7_accuracy: 1.3745e-04 - past_key_values_8_accuracy: 1.3513e-04 - past_key_values_9_accuracy: 1.3739e-04 - past_key_values_10_accuracy: 1.5670e-04 - past_key_values_11_accuracy: 1.4330e-04 - past_key_values_12_accuracy: 1.3797e-04\n",
            "Epoch 10/10\n",
            "1270/1270 [==============================] - 348s 274ms/step - loss: 1.4622 - logits_loss: 1.4622 - logits_accuracy: 0.6282 - past_key_values_1_accuracy: 1.1574e-04 - past_key_values_2_accuracy: 1.6446e-04 - past_key_values_3_accuracy: 1.4499e-04 - past_key_values_4_accuracy: 1.7180e-04 - past_key_values_5_accuracy: 1.5625e-04 - past_key_values_6_accuracy: 1.3930e-04 - past_key_values_7_accuracy: 1.4446e-04 - past_key_values_8_accuracy: 1.3314e-04 - past_key_values_9_accuracy: 1.3988e-04 - past_key_values_10_accuracy: 1.5523e-04 - past_key_values_11_accuracy: 1.4319e-04 - past_key_values_12_accuracy: 1.3747e-04\n"
          ],
          "name": "stdout"
        }
      ]
    },
    {
      "cell_type": "code",
      "metadata": {
        "colab": {
          "base_uri": "https://localhost:8080/"
        },
        "id": "T2T8tOwS45o4",
        "outputId": "a3800830-bc06-4bd2-bef3-18687e4a659e"
      },
      "source": [
        "text = \"মিসির আলির সব গল্প\"\n",
        "# encoding the input text\n",
        "input_ids = tokenizer.encode(text, return_tensors='tf')\n",
        "# getting out output\n",
        "beam_output = model.generate(\n",
        "  input_ids,\n",
        "  max_length = 100,\n",
        "  num_beams = 10,\n",
        "  temperature = 0.7,\n",
        "  no_repeat_ngram_size=2,\n",
        "  num_return_sequences=5\n",
        ")\n",
        "\n",
        "print(tokenizer.decode(beam_output[0]))"
      ],
      "execution_count": 27,
      "outputs": [
        {
          "output_type": "stream",
          "text": [
            "Setting `pad_token_id` to 2 (first `eos_token_id`) to generate sequence\n"
          ],
          "name": "stderr"
        },
        {
          "output_type": "stream",
          "text": [
            "মিসির আলির সব গল্প শুনতে ভাল লাগছে। তিনি কিছুক্ষণের মধ্যেই তাকিয়ে আছেন।\n",
            "\n",
            "মল্লিক সাহেব দীর্ঘ নিশ্বাস ফেলে তাঁর বিভ্ৰান্তিত মনে হলো। মি\n"
          ],
          "name": "stdout"
        }
      ]
    },
    {
      "cell_type": "code",
      "metadata": {
        "id": "6U0pDnEF7SqF"
      },
      "source": [
        ""
      ],
      "execution_count": null,
      "outputs": []
    }
  ]
}