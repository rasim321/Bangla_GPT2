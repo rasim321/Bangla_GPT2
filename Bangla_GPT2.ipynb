{
  "nbformat": 4,
  "nbformat_minor": 0,
  "metadata": {
    "colab": {
      "name": "Bangla_GPT2.ipynb",
      "provenance": [],
      "collapsed_sections": [],
      "authorship_tag": "ABX9TyMCG/oxqV86IqcQxi1dDy9h",
      "include_colab_link": true
    },
    "kernelspec": {
      "name": "python3",
      "display_name": "Python 3"
    },
    "language_info": {
      "name": "python"
    },
    "accelerator": "GPU"
  },
  "cells": [
    {
      "cell_type": "markdown",
      "metadata": {
        "id": "view-in-github",
        "colab_type": "text"
      },
      "source": [
        "<a href=\"https://colab.research.google.com/github/rasim321/Bangla_GPT2/blob/master/Bangla_GPT2.ipynb\" target=\"_parent\"><img src=\"https://colab.research.google.com/assets/colab-badge.svg\" alt=\"Open In Colab\"/></a>"
      ]
    },
    {
      "cell_type": "code",
      "metadata": {
        "colab": {
          "base_uri": "https://localhost:8080/"
        },
        "id": "8GFsYf30MvJ1",
        "outputId": "9bbd0468-3930-4555-9f94-a0695786599e"
      },
      "source": [
        "!pip install tokenizers\n",
        "!pip install transformers"
      ],
      "execution_count": 1,
      "outputs": [
        {
          "output_type": "stream",
          "text": [
            "Collecting tokenizers\n",
            "\u001b[?25l  Downloading https://files.pythonhosted.org/packages/d4/e2/df3543e8ffdab68f5acc73f613de9c2b155ac47f162e725dcac87c521c11/tokenizers-0.10.3-cp37-cp37m-manylinux_2_5_x86_64.manylinux1_x86_64.manylinux_2_12_x86_64.manylinux2010_x86_64.whl (3.3MB)\n",
            "\r\u001b[K     |                                | 10kB 22.4MB/s eta 0:00:01\r\u001b[K     |▏                               | 20kB 30.2MB/s eta 0:00:01\r\u001b[K     |▎                               | 30kB 24.3MB/s eta 0:00:01\r\u001b[K     |▍                               | 40kB 27.2MB/s eta 0:00:01\r\u001b[K     |▌                               | 51kB 28.9MB/s eta 0:00:01\r\u001b[K     |▋                               | 61kB 30.4MB/s eta 0:00:01\r\u001b[K     |▊                               | 71kB 24.5MB/s eta 0:00:01\r\u001b[K     |▉                               | 81kB 25.8MB/s eta 0:00:01\r\u001b[K     |█                               | 92kB 27.4MB/s eta 0:00:01\r\u001b[K     |█                               | 102kB 25.8MB/s eta 0:00:01\r\u001b[K     |█                               | 112kB 25.8MB/s eta 0:00:01\r\u001b[K     |█▏                              | 122kB 25.8MB/s eta 0:00:01\r\u001b[K     |█▎                              | 133kB 25.8MB/s eta 0:00:01\r\u001b[K     |█▍                              | 143kB 25.8MB/s eta 0:00:01\r\u001b[K     |█▌                              | 153kB 25.8MB/s eta 0:00:01\r\u001b[K     |█▋                              | 163kB 25.8MB/s eta 0:00:01\r\u001b[K     |█▊                              | 174kB 25.8MB/s eta 0:00:01\r\u001b[K     |█▉                              | 184kB 25.8MB/s eta 0:00:01\r\u001b[K     |██                              | 194kB 25.8MB/s eta 0:00:01\r\u001b[K     |██                              | 204kB 25.8MB/s eta 0:00:01\r\u001b[K     |██▏                             | 215kB 25.8MB/s eta 0:00:01\r\u001b[K     |██▏                             | 225kB 25.8MB/s eta 0:00:01\r\u001b[K     |██▎                             | 235kB 25.8MB/s eta 0:00:01\r\u001b[K     |██▍                             | 245kB 25.8MB/s eta 0:00:01\r\u001b[K     |██▌                             | 256kB 25.8MB/s eta 0:00:01\r\u001b[K     |██▋                             | 266kB 25.8MB/s eta 0:00:01\r\u001b[K     |██▊                             | 276kB 25.8MB/s eta 0:00:01\r\u001b[K     |██▉                             | 286kB 25.8MB/s eta 0:00:01\r\u001b[K     |███                             | 296kB 25.8MB/s eta 0:00:01\r\u001b[K     |███                             | 307kB 25.8MB/s eta 0:00:01\r\u001b[K     |███▏                            | 317kB 25.8MB/s eta 0:00:01\r\u001b[K     |███▏                            | 327kB 25.8MB/s eta 0:00:01\r\u001b[K     |███▎                            | 337kB 25.8MB/s eta 0:00:01\r\u001b[K     |███▍                            | 348kB 25.8MB/s eta 0:00:01\r\u001b[K     |███▌                            | 358kB 25.8MB/s eta 0:00:01\r\u001b[K     |███▋                            | 368kB 25.8MB/s eta 0:00:01\r\u001b[K     |███▊                            | 378kB 25.8MB/s eta 0:00:01\r\u001b[K     |███▉                            | 389kB 25.8MB/s eta 0:00:01\r\u001b[K     |████                            | 399kB 25.8MB/s eta 0:00:01\r\u001b[K     |████                            | 409kB 25.8MB/s eta 0:00:01\r\u001b[K     |████▏                           | 419kB 25.8MB/s eta 0:00:01\r\u001b[K     |████▎                           | 430kB 25.8MB/s eta 0:00:01\r\u001b[K     |████▎                           | 440kB 25.8MB/s eta 0:00:01\r\u001b[K     |████▍                           | 450kB 25.8MB/s eta 0:00:01\r\u001b[K     |████▌                           | 460kB 25.8MB/s eta 0:00:01\r\u001b[K     |████▋                           | 471kB 25.8MB/s eta 0:00:01\r\u001b[K     |████▊                           | 481kB 25.8MB/s eta 0:00:01\r\u001b[K     |████▉                           | 491kB 25.8MB/s eta 0:00:01\r\u001b[K     |█████                           | 501kB 25.8MB/s eta 0:00:01\r\u001b[K     |█████                           | 512kB 25.8MB/s eta 0:00:01\r\u001b[K     |█████▏                          | 522kB 25.8MB/s eta 0:00:01\r\u001b[K     |█████▎                          | 532kB 25.8MB/s eta 0:00:01\r\u001b[K     |█████▎                          | 542kB 25.8MB/s eta 0:00:01\r\u001b[K     |█████▍                          | 552kB 25.8MB/s eta 0:00:01\r\u001b[K     |█████▌                          | 563kB 25.8MB/s eta 0:00:01\r\u001b[K     |█████▋                          | 573kB 25.8MB/s eta 0:00:01\r\u001b[K     |█████▊                          | 583kB 25.8MB/s eta 0:00:01\r\u001b[K     |█████▉                          | 593kB 25.8MB/s eta 0:00:01\r\u001b[K     |██████                          | 604kB 25.8MB/s eta 0:00:01\r\u001b[K     |██████                          | 614kB 25.8MB/s eta 0:00:01\r\u001b[K     |██████▏                         | 624kB 25.8MB/s eta 0:00:01\r\u001b[K     |██████▎                         | 634kB 25.8MB/s eta 0:00:01\r\u001b[K     |██████▍                         | 645kB 25.8MB/s eta 0:00:01\r\u001b[K     |██████▍                         | 655kB 25.8MB/s eta 0:00:01\r\u001b[K     |██████▌                         | 665kB 25.8MB/s eta 0:00:01\r\u001b[K     |██████▋                         | 675kB 25.8MB/s eta 0:00:01\r\u001b[K     |██████▊                         | 686kB 25.8MB/s eta 0:00:01\r\u001b[K     |██████▉                         | 696kB 25.8MB/s eta 0:00:01\r\u001b[K     |███████                         | 706kB 25.8MB/s eta 0:00:01\r\u001b[K     |███████                         | 716kB 25.8MB/s eta 0:00:01\r\u001b[K     |███████▏                        | 727kB 25.8MB/s eta 0:00:01\r\u001b[K     |███████▎                        | 737kB 25.8MB/s eta 0:00:01\r\u001b[K     |███████▍                        | 747kB 25.8MB/s eta 0:00:01\r\u001b[K     |███████▍                        | 757kB 25.8MB/s eta 0:00:01\r\u001b[K     |███████▌                        | 768kB 25.8MB/s eta 0:00:01\r\u001b[K     |███████▋                        | 778kB 25.8MB/s eta 0:00:01\r\u001b[K     |███████▊                        | 788kB 25.8MB/s eta 0:00:01\r\u001b[K     |███████▉                        | 798kB 25.8MB/s eta 0:00:01\r\u001b[K     |████████                        | 808kB 25.8MB/s eta 0:00:01\r\u001b[K     |████████                        | 819kB 25.8MB/s eta 0:00:01\r\u001b[K     |████████▏                       | 829kB 25.8MB/s eta 0:00:01\r\u001b[K     |████████▎                       | 839kB 25.8MB/s eta 0:00:01\r\u001b[K     |████████▍                       | 849kB 25.8MB/s eta 0:00:01\r\u001b[K     |████████▌                       | 860kB 25.8MB/s eta 0:00:01\r\u001b[K     |████████▌                       | 870kB 25.8MB/s eta 0:00:01\r\u001b[K     |████████▋                       | 880kB 25.8MB/s eta 0:00:01\r\u001b[K     |████████▊                       | 890kB 25.8MB/s eta 0:00:01\r\u001b[K     |████████▉                       | 901kB 25.8MB/s eta 0:00:01\r\u001b[K     |█████████                       | 911kB 25.8MB/s eta 0:00:01\r\u001b[K     |█████████                       | 921kB 25.8MB/s eta 0:00:01\r\u001b[K     |█████████▏                      | 931kB 25.8MB/s eta 0:00:01\r\u001b[K     |█████████▎                      | 942kB 25.8MB/s eta 0:00:01\r\u001b[K     |█████████▍                      | 952kB 25.8MB/s eta 0:00:01\r\u001b[K     |█████████▌                      | 962kB 25.8MB/s eta 0:00:01\r\u001b[K     |█████████▌                      | 972kB 25.8MB/s eta 0:00:01\r\u001b[K     |█████████▋                      | 983kB 25.8MB/s eta 0:00:01\r\u001b[K     |█████████▊                      | 993kB 25.8MB/s eta 0:00:01\r\u001b[K     |█████████▉                      | 1.0MB 25.8MB/s eta 0:00:01\r\u001b[K     |██████████                      | 1.0MB 25.8MB/s eta 0:00:01\r\u001b[K     |██████████                      | 1.0MB 25.8MB/s eta 0:00:01\r\u001b[K     |██████████▏                     | 1.0MB 25.8MB/s eta 0:00:01\r\u001b[K     |██████████▎                     | 1.0MB 25.8MB/s eta 0:00:01\r\u001b[K     |██████████▍                     | 1.1MB 25.8MB/s eta 0:00:01\r\u001b[K     |██████████▌                     | 1.1MB 25.8MB/s eta 0:00:01\r\u001b[K     |██████████▋                     | 1.1MB 25.8MB/s eta 0:00:01\r\u001b[K     |██████████▋                     | 1.1MB 25.8MB/s eta 0:00:01\r\u001b[K     |██████████▊                     | 1.1MB 25.8MB/s eta 0:00:01\r\u001b[K     |██████████▉                     | 1.1MB 25.8MB/s eta 0:00:01\r\u001b[K     |███████████                     | 1.1MB 25.8MB/s eta 0:00:01\r\u001b[K     |███████████                     | 1.1MB 25.8MB/s eta 0:00:01\r\u001b[K     |███████████▏                    | 1.1MB 25.8MB/s eta 0:00:01\r\u001b[K     |███████████▎                    | 1.1MB 25.8MB/s eta 0:00:01\r\u001b[K     |███████████▍                    | 1.2MB 25.8MB/s eta 0:00:01\r\u001b[K     |███████████▌                    | 1.2MB 25.8MB/s eta 0:00:01\r\u001b[K     |███████████▋                    | 1.2MB 25.8MB/s eta 0:00:01\r\u001b[K     |███████████▋                    | 1.2MB 25.8MB/s eta 0:00:01\r\u001b[K     |███████████▊                    | 1.2MB 25.8MB/s eta 0:00:01\r\u001b[K     |███████████▉                    | 1.2MB 25.8MB/s eta 0:00:01\r\u001b[K     |████████████                    | 1.2MB 25.8MB/s eta 0:00:01\r\u001b[K     |████████████                    | 1.2MB 25.8MB/s eta 0:00:01\r\u001b[K     |████████████▏                   | 1.2MB 25.8MB/s eta 0:00:01\r\u001b[K     |████████████▎                   | 1.2MB 25.8MB/s eta 0:00:01\r\u001b[K     |████████████▍                   | 1.3MB 25.8MB/s eta 0:00:01\r\u001b[K     |████████████▌                   | 1.3MB 25.8MB/s eta 0:00:01\r\u001b[K     |████████████▋                   | 1.3MB 25.8MB/s eta 0:00:01\r\u001b[K     |████████████▊                   | 1.3MB 25.8MB/s eta 0:00:01\r\u001b[K     |████████████▊                   | 1.3MB 25.8MB/s eta 0:00:01\r\u001b[K     |████████████▉                   | 1.3MB 25.8MB/s eta 0:00:01\r\u001b[K     |█████████████                   | 1.3MB 25.8MB/s eta 0:00:01\r\u001b[K     |█████████████                   | 1.3MB 25.8MB/s eta 0:00:01\r\u001b[K     |█████████████▏                  | 1.3MB 25.8MB/s eta 0:00:01\r\u001b[K     |█████████████▎                  | 1.4MB 25.8MB/s eta 0:00:01\r\u001b[K     |█████████████▍                  | 1.4MB 25.8MB/s eta 0:00:01\r\u001b[K     |█████████████▌                  | 1.4MB 25.8MB/s eta 0:00:01\r\u001b[K     |█████████████▋                  | 1.4MB 25.8MB/s eta 0:00:01\r\u001b[K     |█████████████▊                  | 1.4MB 25.8MB/s eta 0:00:01\r\u001b[K     |█████████████▊                  | 1.4MB 25.8MB/s eta 0:00:01\r\u001b[K     |█████████████▉                  | 1.4MB 25.8MB/s eta 0:00:01\r\u001b[K     |██████████████                  | 1.4MB 25.8MB/s eta 0:00:01\r\u001b[K     |██████████████                  | 1.4MB 25.8MB/s eta 0:00:01\r\u001b[K     |██████████████▏                 | 1.4MB 25.8MB/s eta 0:00:01\r\u001b[K     |██████████████▎                 | 1.5MB 25.8MB/s eta 0:00:01\r\u001b[K     |██████████████▍                 | 1.5MB 25.8MB/s eta 0:00:01\r\u001b[K     |██████████████▌                 | 1.5MB 25.8MB/s eta 0:00:01\r\u001b[K     |██████████████▋                 | 1.5MB 25.8MB/s eta 0:00:01\r\u001b[K     |██████████████▊                 | 1.5MB 25.8MB/s eta 0:00:01\r\u001b[K     |██████████████▉                 | 1.5MB 25.8MB/s eta 0:00:01\r\u001b[K     |██████████████▉                 | 1.5MB 25.8MB/s eta 0:00:01\r\u001b[K     |███████████████                 | 1.5MB 25.8MB/s eta 0:00:01\r\u001b[K     |███████████████                 | 1.5MB 25.8MB/s eta 0:00:01\r\u001b[K     |███████████████▏                | 1.5MB 25.8MB/s eta 0:00:01\r\u001b[K     |███████████████▎                | 1.6MB 25.8MB/s eta 0:00:01\r\u001b[K     |███████████████▍                | 1.6MB 25.8MB/s eta 0:00:01\r\u001b[K     |███████████████▌                | 1.6MB 25.8MB/s eta 0:00:01\r\u001b[K     |███████████████▋                | 1.6MB 25.8MB/s eta 0:00:01\r\u001b[K     |███████████████▊                | 1.6MB 25.8MB/s eta 0:00:01\r\u001b[K     |███████████████▉                | 1.6MB 25.8MB/s eta 0:00:01\r\u001b[K     |███████████████▉                | 1.6MB 25.8MB/s eta 0:00:01\r\u001b[K     |████████████████                | 1.6MB 25.8MB/s eta 0:00:01\r\u001b[K     |████████████████                | 1.6MB 25.8MB/s eta 0:00:01\r\u001b[K     |████████████████▏               | 1.6MB 25.8MB/s eta 0:00:01\r\u001b[K     |████████████████▎               | 1.7MB 25.8MB/s eta 0:00:01\r\u001b[K     |████████████████▍               | 1.7MB 25.8MB/s eta 0:00:01\r\u001b[K     |████████████████▌               | 1.7MB 25.8MB/s eta 0:00:01\r\u001b[K     |████████████████▋               | 1.7MB 25.8MB/s eta 0:00:01\r\u001b[K     |████████████████▊               | 1.7MB 25.8MB/s eta 0:00:01\r\u001b[K     |████████████████▉               | 1.7MB 25.8MB/s eta 0:00:01\r\u001b[K     |█████████████████               | 1.7MB 25.8MB/s eta 0:00:01\r\u001b[K     |█████████████████               | 1.7MB 25.8MB/s eta 0:00:01\r\u001b[K     |█████████████████               | 1.7MB 25.8MB/s eta 0:00:01\r\u001b[K     |█████████████████▏              | 1.8MB 25.8MB/s eta 0:00:01\r\u001b[K     |█████████████████▎              | 1.8MB 25.8MB/s eta 0:00:01\r\u001b[K     |█████████████████▍              | 1.8MB 25.8MB/s eta 0:00:01\r\u001b[K     |█████████████████▌              | 1.8MB 25.8MB/s eta 0:00:01\r\u001b[K     |█████████████████▋              | 1.8MB 25.8MB/s eta 0:00:01\r\u001b[K     |█████████████████▊              | 1.8MB 25.8MB/s eta 0:00:01\r\u001b[K     |█████████████████▉              | 1.8MB 25.8MB/s eta 0:00:01\r\u001b[K     |██████████████████              | 1.8MB 25.8MB/s eta 0:00:01\r\u001b[K     |██████████████████              | 1.8MB 25.8MB/s eta 0:00:01\r\u001b[K     |██████████████████              | 1.8MB 25.8MB/s eta 0:00:01\r\u001b[K     |██████████████████▏             | 1.9MB 25.8MB/s eta 0:00:01\r\u001b[K     |██████████████████▎             | 1.9MB 25.8MB/s eta 0:00:01\r\u001b[K     |██████████████████▍             | 1.9MB 25.8MB/s eta 0:00:01\r\u001b[K     |██████████████████▌             | 1.9MB 25.8MB/s eta 0:00:01\r\u001b[K     |██████████████████▋             | 1.9MB 25.8MB/s eta 0:00:01\r\u001b[K     |██████████████████▊             | 1.9MB 25.8MB/s eta 0:00:01\r\u001b[K     |██████████████████▉             | 1.9MB 25.8MB/s eta 0:00:01\r\u001b[K     |███████████████████             | 1.9MB 25.8MB/s eta 0:00:01\r\u001b[K     |███████████████████             | 1.9MB 25.8MB/s eta 0:00:01\r\u001b[K     |███████████████████             | 1.9MB 25.8MB/s eta 0:00:01\r\u001b[K     |███████████████████▏            | 2.0MB 25.8MB/s eta 0:00:01\r\u001b[K     |███████████████████▎            | 2.0MB 25.8MB/s eta 0:00:01\r\u001b[K     |███████████████████▍            | 2.0MB 25.8MB/s eta 0:00:01\r\u001b[K     |███████████████████▌            | 2.0MB 25.8MB/s eta 0:00:01\r\u001b[K     |███████████████████▋            | 2.0MB 25.8MB/s eta 0:00:01\r\u001b[K     |███████████████████▊            | 2.0MB 25.8MB/s eta 0:00:01\r\u001b[K     |███████████████████▉            | 2.0MB 25.8MB/s eta 0:00:01\r\u001b[K     |████████████████████            | 2.0MB 25.8MB/s eta 0:00:01\r\u001b[K     |████████████████████            | 2.0MB 25.8MB/s eta 0:00:01\r\u001b[K     |████████████████████            | 2.0MB 25.8MB/s eta 0:00:01\r\u001b[K     |████████████████████▏           | 2.1MB 25.8MB/s eta 0:00:01\r\u001b[K     |████████████████████▎           | 2.1MB 25.8MB/s eta 0:00:01\r\u001b[K     |████████████████████▍           | 2.1MB 25.8MB/s eta 0:00:01\r\u001b[K     |████████████████████▌           | 2.1MB 25.8MB/s eta 0:00:01\r\u001b[K     |████████████████████▋           | 2.1MB 25.8MB/s eta 0:00:01\r\u001b[K     |████████████████████▊           | 2.1MB 25.8MB/s eta 0:00:01\r\u001b[K     |████████████████████▉           | 2.1MB 25.8MB/s eta 0:00:01\r\u001b[K     |█████████████████████           | 2.1MB 25.8MB/s eta 0:00:01\r\u001b[K     |█████████████████████           | 2.1MB 25.8MB/s eta 0:00:01\r\u001b[K     |█████████████████████▏          | 2.2MB 25.8MB/s eta 0:00:01\r\u001b[K     |█████████████████████▏          | 2.2MB 25.8MB/s eta 0:00:01\r\u001b[K     |█████████████████████▎          | 2.2MB 25.8MB/s eta 0:00:01\r\u001b[K     |█████████████████████▍          | 2.2MB 25.8MB/s eta 0:00:01\r\u001b[K     |█████████████████████▌          | 2.2MB 25.8MB/s eta 0:00:01\r\u001b[K     |█████████████████████▋          | 2.2MB 25.8MB/s eta 0:00:01\r\u001b[K     |█████████████████████▊          | 2.2MB 25.8MB/s eta 0:00:01\r\u001b[K     |█████████████████████▉          | 2.2MB 25.8MB/s eta 0:00:01\r\u001b[K     |██████████████████████          | 2.2MB 25.8MB/s eta 0:00:01\r\u001b[K     |██████████████████████          | 2.2MB 25.8MB/s eta 0:00:01\r\u001b[K     |██████████████████████▏         | 2.3MB 25.8MB/s eta 0:00:01\r\u001b[K     |██████████████████████▏         | 2.3MB 25.8MB/s eta 0:00:01\r\u001b[K     |██████████████████████▎         | 2.3MB 25.8MB/s eta 0:00:01\r\u001b[K     |██████████████████████▍         | 2.3MB 25.8MB/s eta 0:00:01\r\u001b[K     |██████████████████████▌         | 2.3MB 25.8MB/s eta 0:00:01\r\u001b[K     |██████████████████████▋         | 2.3MB 25.8MB/s eta 0:00:01\r\u001b[K     |██████████████████████▊         | 2.3MB 25.8MB/s eta 0:00:01\r\u001b[K     |██████████████████████▉         | 2.3MB 25.8MB/s eta 0:00:01\r\u001b[K     |███████████████████████         | 2.3MB 25.8MB/s eta 0:00:01\r\u001b[K     |███████████████████████         | 2.3MB 25.8MB/s eta 0:00:01\r\u001b[K     |███████████████████████▏        | 2.4MB 25.8MB/s eta 0:00:01\r\u001b[K     |███████████████████████▎        | 2.4MB 25.8MB/s eta 0:00:01\r\u001b[K     |███████████████████████▎        | 2.4MB 25.8MB/s eta 0:00:01\r\u001b[K     |███████████████████████▍        | 2.4MB 25.8MB/s eta 0:00:01\r\u001b[K     |███████████████████████▌        | 2.4MB 25.8MB/s eta 0:00:01\r\u001b[K     |███████████████████████▋        | 2.4MB 25.8MB/s eta 0:00:01\r\u001b[K     |███████████████████████▊        | 2.4MB 25.8MB/s eta 0:00:01\r\u001b[K     |███████████████████████▉        | 2.4MB 25.8MB/s eta 0:00:01\r\u001b[K     |████████████████████████        | 2.4MB 25.8MB/s eta 0:00:01\r\u001b[K     |████████████████████████        | 2.4MB 25.8MB/s eta 0:00:01\r\u001b[K     |████████████████████████▏       | 2.5MB 25.8MB/s eta 0:00:01\r\u001b[K     |████████████████████████▎       | 2.5MB 25.8MB/s eta 0:00:01\r\u001b[K     |████████████████████████▍       | 2.5MB 25.8MB/s eta 0:00:01\r\u001b[K     |████████████████████████▍       | 2.5MB 25.8MB/s eta 0:00:01\r\u001b[K     |████████████████████████▌       | 2.5MB 25.8MB/s eta 0:00:01\r\u001b[K     |████████████████████████▋       | 2.5MB 25.8MB/s eta 0:00:01\r\u001b[K     |████████████████████████▊       | 2.5MB 25.8MB/s eta 0:00:01\r\u001b[K     |████████████████████████▉       | 2.5MB 25.8MB/s eta 0:00:01\r\u001b[K     |█████████████████████████       | 2.5MB 25.8MB/s eta 0:00:01\r\u001b[K     |█████████████████████████       | 2.5MB 25.8MB/s eta 0:00:01\r\u001b[K     |█████████████████████████▏      | 2.6MB 25.8MB/s eta 0:00:01\r\u001b[K     |█████████████████████████▎      | 2.6MB 25.8MB/s eta 0:00:01\r\u001b[K     |█████████████████████████▍      | 2.6MB 25.8MB/s eta 0:00:01\r\u001b[K     |█████████████████████████▍      | 2.6MB 25.8MB/s eta 0:00:01\r\u001b[K     |█████████████████████████▌      | 2.6MB 25.8MB/s eta 0:00:01\r\u001b[K     |█████████████████████████▋      | 2.6MB 25.8MB/s eta 0:00:01\r\u001b[K     |█████████████████████████▊      | 2.6MB 25.8MB/s eta 0:00:01\r\u001b[K     |█████████████████████████▉      | 2.6MB 25.8MB/s eta 0:00:01\r\u001b[K     |██████████████████████████      | 2.6MB 25.8MB/s eta 0:00:01\r\u001b[K     |██████████████████████████      | 2.7MB 25.8MB/s eta 0:00:01\r\u001b[K     |██████████████████████████▏     | 2.7MB 25.8MB/s eta 0:00:01\r\u001b[K     |██████████████████████████▎     | 2.7MB 25.8MB/s eta 0:00:01\r\u001b[K     |██████████████████████████▍     | 2.7MB 25.8MB/s eta 0:00:01\r\u001b[K     |██████████████████████████▌     | 2.7MB 25.8MB/s eta 0:00:01\r\u001b[K     |██████████████████████████▌     | 2.7MB 25.8MB/s eta 0:00:01\r\u001b[K     |██████████████████████████▋     | 2.7MB 25.8MB/s eta 0:00:01\r\u001b[K     |██████████████████████████▊     | 2.7MB 25.8MB/s eta 0:00:01\r\u001b[K     |██████████████████████████▉     | 2.7MB 25.8MB/s eta 0:00:01\r\u001b[K     |███████████████████████████     | 2.7MB 25.8MB/s eta 0:00:01\r\u001b[K     |███████████████████████████     | 2.8MB 25.8MB/s eta 0:00:01\r\u001b[K     |███████████████████████████▏    | 2.8MB 25.8MB/s eta 0:00:01\r\u001b[K     |███████████████████████████▎    | 2.8MB 25.8MB/s eta 0:00:01\r\u001b[K     |███████████████████████████▍    | 2.8MB 25.8MB/s eta 0:00:01\r\u001b[K     |███████████████████████████▌    | 2.8MB 25.8MB/s eta 0:00:01\r\u001b[K     |███████████████████████████▌    | 2.8MB 25.8MB/s eta 0:00:01\r\u001b[K     |███████████████████████████▋    | 2.8MB 25.8MB/s eta 0:00:01\r\u001b[K     |███████████████████████████▊    | 2.8MB 25.8MB/s eta 0:00:01\r\u001b[K     |███████████████████████████▉    | 2.8MB 25.8MB/s eta 0:00:01\r\u001b[K     |████████████████████████████    | 2.8MB 25.8MB/s eta 0:00:01\r\u001b[K     |████████████████████████████    | 2.9MB 25.8MB/s eta 0:00:01\r\u001b[K     |████████████████████████████▏   | 2.9MB 25.8MB/s eta 0:00:01\r\u001b[K     |████████████████████████████▎   | 2.9MB 25.8MB/s eta 0:00:01\r\u001b[K     |████████████████████████████▍   | 2.9MB 25.8MB/s eta 0:00:01\r\u001b[K     |████████████████████████████▌   | 2.9MB 25.8MB/s eta 0:00:01\r\u001b[K     |████████████████████████████▋   | 2.9MB 25.8MB/s eta 0:00:01\r\u001b[K     |████████████████████████████▋   | 2.9MB 25.8MB/s eta 0:00:01\r\u001b[K     |████████████████████████████▊   | 2.9MB 25.8MB/s eta 0:00:01\r\u001b[K     |████████████████████████████▉   | 2.9MB 25.8MB/s eta 0:00:01\r\u001b[K     |█████████████████████████████   | 2.9MB 25.8MB/s eta 0:00:01\r\u001b[K     |█████████████████████████████   | 3.0MB 25.8MB/s eta 0:00:01\r\u001b[K     |█████████████████████████████▏  | 3.0MB 25.8MB/s eta 0:00:01\r\u001b[K     |█████████████████████████████▎  | 3.0MB 25.8MB/s eta 0:00:01\r\u001b[K     |█████████████████████████████▍  | 3.0MB 25.8MB/s eta 0:00:01\r\u001b[K     |█████████████████████████████▌  | 3.0MB 25.8MB/s eta 0:00:01\r\u001b[K     |█████████████████████████████▋  | 3.0MB 25.8MB/s eta 0:00:01\r\u001b[K     |█████████████████████████████▋  | 3.0MB 25.8MB/s eta 0:00:01\r\u001b[K     |█████████████████████████████▊  | 3.0MB 25.8MB/s eta 0:00:01\r\u001b[K     |█████████████████████████████▉  | 3.0MB 25.8MB/s eta 0:00:01\r\u001b[K     |██████████████████████████████  | 3.1MB 25.8MB/s eta 0:00:01\r\u001b[K     |██████████████████████████████  | 3.1MB 25.8MB/s eta 0:00:01\r\u001b[K     |██████████████████████████████▏ | 3.1MB 25.8MB/s eta 0:00:01\r\u001b[K     |██████████████████████████████▎ | 3.1MB 25.8MB/s eta 0:00:01\r\u001b[K     |██████████████████████████████▍ | 3.1MB 25.8MB/s eta 0:00:01\r\u001b[K     |██████████████████████████████▌ | 3.1MB 25.8MB/s eta 0:00:01\r\u001b[K     |██████████████████████████████▋ | 3.1MB 25.8MB/s eta 0:00:01\r\u001b[K     |██████████████████████████████▊ | 3.1MB 25.8MB/s eta 0:00:01\r\u001b[K     |██████████████████████████████▊ | 3.1MB 25.8MB/s eta 0:00:01\r\u001b[K     |██████████████████████████████▉ | 3.1MB 25.8MB/s eta 0:00:01\r\u001b[K     |███████████████████████████████ | 3.2MB 25.8MB/s eta 0:00:01\r\u001b[K     |███████████████████████████████ | 3.2MB 25.8MB/s eta 0:00:01\r\u001b[K     |███████████████████████████████▏| 3.2MB 25.8MB/s eta 0:00:01\r\u001b[K     |███████████████████████████████▎| 3.2MB 25.8MB/s eta 0:00:01\r\u001b[K     |███████████████████████████████▍| 3.2MB 25.8MB/s eta 0:00:01\r\u001b[K     |███████████████████████████████▌| 3.2MB 25.8MB/s eta 0:00:01\r\u001b[K     |███████████████████████████████▋| 3.2MB 25.8MB/s eta 0:00:01\r\u001b[K     |███████████████████████████████▊| 3.2MB 25.8MB/s eta 0:00:01\r\u001b[K     |███████████████████████████████▊| 3.2MB 25.8MB/s eta 0:00:01\r\u001b[K     |███████████████████████████████▉| 3.2MB 25.8MB/s eta 0:00:01\r\u001b[K     |████████████████████████████████| 3.3MB 25.8MB/s eta 0:00:01\r\u001b[K     |████████████████████████████████| 3.3MB 25.8MB/s \n",
            "\u001b[?25hInstalling collected packages: tokenizers\n",
            "Successfully installed tokenizers-0.10.3\n",
            "Collecting transformers\n",
            "\u001b[?25l  Downloading https://files.pythonhosted.org/packages/d5/43/cfe4ee779bbd6a678ac6a97c5a5cdeb03c35f9eaebbb9720b036680f9a2d/transformers-4.6.1-py3-none-any.whl (2.2MB)\n",
            "\u001b[K     |████████████████████████████████| 2.3MB 29.4MB/s \n",
            "\u001b[?25hRequirement already satisfied: packaging in /usr/local/lib/python3.7/dist-packages (from transformers) (20.9)\n",
            "Requirement already satisfied: importlib-metadata; python_version < \"3.8\" in /usr/local/lib/python3.7/dist-packages (from transformers) (4.0.1)\n",
            "Requirement already satisfied: filelock in /usr/local/lib/python3.7/dist-packages (from transformers) (3.0.12)\n",
            "Collecting sacremoses\n",
            "\u001b[?25l  Downloading https://files.pythonhosted.org/packages/75/ee/67241dc87f266093c533a2d4d3d69438e57d7a90abb216fa076e7d475d4a/sacremoses-0.0.45-py3-none-any.whl (895kB)\n",
            "\u001b[K     |████████████████████████████████| 901kB 38.6MB/s \n",
            "\u001b[?25hCollecting huggingface-hub==0.0.8\n",
            "  Downloading https://files.pythonhosted.org/packages/a1/88/7b1e45720ecf59c6c6737ff332f41c955963090a18e72acbcbeac6b25e86/huggingface_hub-0.0.8-py3-none-any.whl\n",
            "Requirement already satisfied: regex!=2019.12.17 in /usr/local/lib/python3.7/dist-packages (from transformers) (2019.12.20)\n",
            "Requirement already satisfied: tokenizers<0.11,>=0.10.1 in /usr/local/lib/python3.7/dist-packages (from transformers) (0.10.3)\n",
            "Requirement already satisfied: requests in /usr/local/lib/python3.7/dist-packages (from transformers) (2.23.0)\n",
            "Requirement already satisfied: tqdm>=4.27 in /usr/local/lib/python3.7/dist-packages (from transformers) (4.41.1)\n",
            "Requirement already satisfied: numpy>=1.17 in /usr/local/lib/python3.7/dist-packages (from transformers) (1.19.5)\n",
            "Requirement already satisfied: pyparsing>=2.0.2 in /usr/local/lib/python3.7/dist-packages (from packaging->transformers) (2.4.7)\n",
            "Requirement already satisfied: typing-extensions>=3.6.4; python_version < \"3.8\" in /usr/local/lib/python3.7/dist-packages (from importlib-metadata; python_version < \"3.8\"->transformers) (3.7.4.3)\n",
            "Requirement already satisfied: zipp>=0.5 in /usr/local/lib/python3.7/dist-packages (from importlib-metadata; python_version < \"3.8\"->transformers) (3.4.1)\n",
            "Requirement already satisfied: six in /usr/local/lib/python3.7/dist-packages (from sacremoses->transformers) (1.15.0)\n",
            "Requirement already satisfied: click in /usr/local/lib/python3.7/dist-packages (from sacremoses->transformers) (7.1.2)\n",
            "Requirement already satisfied: joblib in /usr/local/lib/python3.7/dist-packages (from sacremoses->transformers) (1.0.1)\n",
            "Requirement already satisfied: urllib3!=1.25.0,!=1.25.1,<1.26,>=1.21.1 in /usr/local/lib/python3.7/dist-packages (from requests->transformers) (1.24.3)\n",
            "Requirement already satisfied: certifi>=2017.4.17 in /usr/local/lib/python3.7/dist-packages (from requests->transformers) (2020.12.5)\n",
            "Requirement already satisfied: chardet<4,>=3.0.2 in /usr/local/lib/python3.7/dist-packages (from requests->transformers) (3.0.4)\n",
            "Requirement already satisfied: idna<3,>=2.5 in /usr/local/lib/python3.7/dist-packages (from requests->transformers) (2.10)\n",
            "Installing collected packages: sacremoses, huggingface-hub, transformers\n",
            "Successfully installed huggingface-hub-0.0.8 sacremoses-0.0.45 transformers-4.6.1\n"
          ],
          "name": "stdout"
        }
      ]
    },
    {
      "cell_type": "code",
      "metadata": {
        "id": "1eDzZSRTKC4k"
      },
      "source": [
        "import os\n",
        "from tokenizers.models import BPE\n",
        "from tokenizers import Tokenizer\n",
        "from tokenizers.decoders import ByteLevel as ByteLevelDecoder\n",
        "from tokenizers.normalizers import NFKC, Sequence\n",
        "from tokenizers.pre_tokenizers import ByteLevel\n",
        "from tokenizers.trainers import BpeTrainer\n",
        "\n",
        "class BPE_token(object):\n",
        "    def __init__(self):\n",
        "        self.tokenizer = Tokenizer(BPE())\n",
        "        self.tokenizer.normalizer = NFKC()\n",
        "        self.tokenizer.pre_tokenizer = ByteLevel()\n",
        "        self.tokenizer.decoder = ByteLevelDecoder()\n",
        "\n",
        "    def bpe_train(self, paths):\n",
        "        trainer = BpeTrainer(vocab_size=50000, show_progress=True, inital_alphabet=ByteLevel.alphabet(), special_tokens=[\n",
        "            \"<s>\",\n",
        "            \"<pad>\",\n",
        "            \"</s>\",\n",
        "            \"<unk>\",\n",
        "            \"<mask>\"\n",
        "        ])\n",
        "        self.tokenizer.train(paths, trainer)\n",
        "\n",
        "    def save_tokenizer(self, location, prefix=None):\n",
        "        if not os.path.exists(location):\n",
        "            os.makedirs(location)\n",
        "        self.tokenizer.model.save(location, prefix)\n"
      ],
      "execution_count": 2,
      "outputs": []
    },
    {
      "cell_type": "code",
      "metadata": {
        "id": "UM8Df5obQZEE"
      },
      "source": [
        "import glob\n",
        "paths = glob.glob('/content/*.txt')\n",
        "\n",
        "# for i in glob.glob('/content/*.txt'):\n",
        "#   with open(i, 'r') as file:\n",
        "#       paths.append(str(file.read().replace('\\n', '')))\n"
      ],
      "execution_count": 8,
      "outputs": []
    },
    {
      "cell_type": "code",
      "metadata": {
        "id": "td5Gko22N8c0"
      },
      "source": [
        "from pathlib import Path\n",
        "import os\n",
        "\n",
        "# the folder 'text' contains all the files\n",
        "tokenizer = BPE_token()\n",
        "# train the tokenizer model\n",
        "tokenizer.bpe_train(glob.glob('/content/*.txt'))\n",
        "# saving the tokenized data in our specified folder \n",
        "save_path = 'tokenized_data'\n",
        "tokenizer.save_tokenizer(save_path)"
      ],
      "execution_count": 6,
      "outputs": []
    },
    {
      "cell_type": "code",
      "metadata": {
        "id": "o1ZHHZisyeIj"
      },
      "source": [
        "import tensorflow as tf\n",
        "from transformers import GPT2Config, TFGPT2LMHeadModel, GPT2Tokenizer\n",
        "# loading tokenizer from the saved model path\n",
        "tokenizer = GPT2Tokenizer.from_pretrained(save_path)\n",
        "tokenizer.add_special_tokens({\n",
        "  \"eos_token\": \"</s>\",\n",
        "  \"bos_token\": \"<s>\",\n",
        "  \"unk_token\": \"<unk>\",\n",
        "  \"pad_token\": \"<pad>\",\n",
        "  \"mask_token\": \"<mask>\"\n",
        "})\n",
        "# creating the configurations from which the model can be made\n",
        "config = GPT2Config(\n",
        "  vocab_size=tokenizer.vocab_size,\n",
        "  bos_token_id=tokenizer.bos_token_id,\n",
        "  eos_token_id=tokenizer.eos_token_id\n",
        ")\n",
        "# creating the model\n",
        "model = TFGPT2LMHeadModel(config)"
      ],
      "execution_count": 7,
      "outputs": []
    },
    {
      "cell_type": "code",
      "metadata": {
        "id": "QDm6y3xAQWl6"
      },
      "source": [
        "single_string = ''\n",
        "for filename in paths:\n",
        "  with open(filename, \"r\", encoding='utf-8') as f:\n",
        "   x = f.read()\n",
        "  single_string += x + tokenizer.eos_token\n",
        "string_tokenized = tokenizer.encode(single_string)"
      ],
      "execution_count": 9,
      "outputs": []
    },
    {
      "cell_type": "code",
      "metadata": {
        "id": "vTIyWCZz39Iu"
      },
      "source": [
        "examples = []\n",
        "block_size = 100\n",
        "BATCH_SIZE = 12\n",
        "BUFFER_SIZE = 1000\n",
        "for i in range(0, len(string_tokenized) - block_size + 1, block_size):\n",
        "  examples.append(string_tokenized[i:i + block_size])\n",
        "inputs, labels = [], []\n",
        "for ex in examples:\n",
        "  inputs.append(ex[:-1])\n",
        "  labels.append(ex[1:])\n",
        "dataset = tf.data.Dataset.from_tensor_slices((inputs, labels))\n",
        "dataset = dataset.shuffle(BUFFER_SIZE).batch(BATCH_SIZE, drop_remainder=True)"
      ],
      "execution_count": 10,
      "outputs": []
    },
    {
      "cell_type": "code",
      "metadata": {
        "id": "Eh4ejgvm4Yd1"
      },
      "source": [
        "learning_rate = 3e-5\n",
        "epsilon = 1e-08\n",
        "clipnorm = 1.0\n",
        "epochs = 30\n",
        "\n",
        "# defining our optimizer\n",
        "optimizer = tf.keras.optimizers.Adam(learning_rate=learning_rate, epsilon=epsilon, clipnorm=clipnorm)\n",
        "# definining our loss function\n",
        "loss = tf.keras.losses.SparseCategoricalCrossentropy(from_logits=True)\n",
        "# defining our metric which we want to observe\n",
        "metric = tf.keras.metrics.SparseCategoricalAccuracy('accuracy')\n",
        "# compiling the model\n",
        "model.compile(optimizer=optimizer, loss=[loss, *[None] * model.config.n_layer], metrics=[metric])"
      ],
      "execution_count": 11,
      "outputs": []
    },
    {
      "cell_type": "code",
      "metadata": {
        "colab": {
          "base_uri": "https://localhost:8080/"
        },
        "id": "BxDc5YEa43Rw",
        "outputId": "f96c0380-6513-4e8f-b062-c49904250791"
      },
      "source": [
        "num_epoch = 10\n",
        "history = model.fit(dataset, epochs=num_epoch)"
      ],
      "execution_count": 12,
      "outputs": [
        {
          "output_type": "stream",
          "text": [
            "Epoch 1/10\n",
            "WARNING:tensorflow:The parameters `output_attentions`, `output_hidden_states` and `use_cache` cannot be updated when calling a model.They have to be set to True/False in the config object (i.e.: `config=XConfig.from_pretrained('name', output_attentions=True)`).\n",
            "WARNING:tensorflow:AutoGraph could not transform <bound method Socket.send of <zmq.sugar.socket.Socket object at 0x7f618ae2be50>> and will run it as-is.\n",
            "Please report this to the TensorFlow team. When filing the bug, set the verbosity to 10 (on Linux, `export AUTOGRAPH_VERBOSITY=10`) and attach the full output.\n",
            "Cause: module, class, method, function, traceback, frame, or code object was expected, got cython_function_or_method\n",
            "To silence this warning, decorate the function with @tf.autograph.experimental.do_not_convert\n",
            "WARNING: AutoGraph could not transform <bound method Socket.send of <zmq.sugar.socket.Socket object at 0x7f618ae2be50>> and will run it as-is.\n",
            "Please report this to the TensorFlow team. When filing the bug, set the verbosity to 10 (on Linux, `export AUTOGRAPH_VERBOSITY=10`) and attach the full output.\n",
            "Cause: module, class, method, function, traceback, frame, or code object was expected, got cython_function_or_method\n",
            "To silence this warning, decorate the function with @tf.autograph.experimental.do_not_convert\n",
            "WARNING:tensorflow:AutoGraph could not transform <function wrap at 0x7f61a66dadd0> and will run it as-is.\n",
            "Cause: while/else statement not yet supported\n",
            "To silence this warning, decorate the function with @tf.autograph.experimental.do_not_convert\n",
            "WARNING: AutoGraph could not transform <function wrap at 0x7f61a66dadd0> and will run it as-is.\n",
            "Cause: while/else statement not yet supported\n",
            "To silence this warning, decorate the function with @tf.autograph.experimental.do_not_convert\n",
            "WARNING:tensorflow:The parameter `return_dict` cannot be set in graph mode and will always be set to `True`.\n",
            "WARNING:tensorflow:From /usr/local/lib/python3.7/dist-packages/tensorflow/python/ops/array_ops.py:5049: calling gather (from tensorflow.python.ops.array_ops) with validate_indices is deprecated and will be removed in a future version.\n",
            "Instructions for updating:\n",
            "The `validate_indices` argument has no effect. Indices are always validated on CPU and never validated on GPU.\n",
            "WARNING:tensorflow:The parameters `output_attentions`, `output_hidden_states` and `use_cache` cannot be updated when calling a model.They have to be set to True/False in the config object (i.e.: `config=XConfig.from_pretrained('name', output_attentions=True)`).\n",
            "WARNING:tensorflow:The parameter `return_dict` cannot be set in graph mode and will always be set to `True`.\n",
            "429/429 [==============================] - 169s 277ms/step - loss: 4.4100 - logits_loss: 4.4100 - logits_accuracy: 0.1935 - past_key_values_1_accuracy: 1.8804e-04 - past_key_values_2_accuracy: 1.7749e-04 - past_key_values_3_accuracy: 1.8199e-04 - past_key_values_4_accuracy: 1.6719e-04 - past_key_values_5_accuracy: 3.1353e-04 - past_key_values_6_accuracy: 1.2051e-04 - past_key_values_7_accuracy: 1.6032e-04 - past_key_values_8_accuracy: 2.2761e-04 - past_key_values_9_accuracy: 3.8409e-04 - past_key_values_10_accuracy: 2.5835e-04 - past_key_values_11_accuracy: 2.2802e-04 - past_key_values_12_accuracy: 2.3545e-04\n",
            "Epoch 2/10\n",
            "429/429 [==============================] - 122s 284ms/step - loss: 3.5615 - logits_loss: 3.5615 - logits_accuracy: 0.2555 - past_key_values_1_accuracy: 1.8354e-04 - past_key_values_2_accuracy: 1.9016e-04 - past_key_values_3_accuracy: 2.0398e-04 - past_key_values_4_accuracy: 1.5901e-04 - past_key_values_5_accuracy: 2.2188e-04 - past_key_values_6_accuracy: 1.2345e-04 - past_key_values_7_accuracy: 2.2965e-04 - past_key_values_8_accuracy: 2.0275e-04 - past_key_values_9_accuracy: 2.9448e-04 - past_key_values_10_accuracy: 2.1984e-04 - past_key_values_11_accuracy: 2.1240e-04 - past_key_values_12_accuracy: 2.2998e-04\n",
            "Epoch 3/10\n",
            "429/429 [==============================] - 123s 286ms/step - loss: 3.3905 - logits_loss: 3.3905 - logits_accuracy: 0.2833 - past_key_values_1_accuracy: 1.9768e-04 - past_key_values_2_accuracy: 1.7978e-04 - past_key_values_3_accuracy: 1.9441e-04 - past_key_values_4_accuracy: 1.8141e-04 - past_key_values_5_accuracy: 2.1117e-04 - past_key_values_6_accuracy: 1.5738e-04 - past_key_values_7_accuracy: 1.9850e-04 - past_key_values_8_accuracy: 1.9106e-04 - past_key_values_9_accuracy: 2.4363e-04 - past_key_values_10_accuracy: 2.0431e-04 - past_key_values_11_accuracy: 2.0521e-04 - past_key_values_12_accuracy: 2.2107e-04\n",
            "Epoch 4/10\n",
            "429/429 [==============================] - 127s 295ms/step - loss: 3.2065 - logits_loss: 3.2065 - logits_accuracy: 0.3226 - past_key_values_1_accuracy: 1.7904e-04 - past_key_values_2_accuracy: 1.8934e-04 - past_key_values_3_accuracy: 2.0038e-04 - past_key_values_4_accuracy: 1.9090e-04 - past_key_values_5_accuracy: 2.0365e-04 - past_key_values_6_accuracy: 1.6564e-04 - past_key_values_7_accuracy: 1.9597e-04 - past_key_values_8_accuracy: 1.7610e-04 - past_key_values_9_accuracy: 2.0529e-04 - past_key_values_10_accuracy: 1.8534e-04 - past_key_values_11_accuracy: 1.7504e-04 - past_key_values_12_accuracy: 2.0529e-04\n",
            "Epoch 5/10\n",
            "429/429 [==============================] - 128s 298ms/step - loss: 2.9663 - logits_loss: 2.9663 - logits_accuracy: 0.3745 - past_key_values_1_accuracy: 1.7774e-04 - past_key_values_2_accuracy: 2.0831e-04 - past_key_values_3_accuracy: 2.0610e-04 - past_key_values_4_accuracy: 1.9311e-04 - past_key_values_5_accuracy: 1.8894e-04 - past_key_values_6_accuracy: 1.7422e-04 - past_key_values_7_accuracy: 1.7953e-04 - past_key_values_8_accuracy: 1.8297e-04 - past_key_values_9_accuracy: 1.8403e-04 - past_key_values_10_accuracy: 1.7095e-04 - past_key_values_11_accuracy: 1.7316e-04 - past_key_values_12_accuracy: 1.7888e-04\n",
            "Epoch 6/10\n",
            "429/429 [==============================] - 128s 297ms/step - loss: 2.7678 - logits_loss: 2.7678 - logits_accuracy: 0.4146 - past_key_values_1_accuracy: 1.7586e-04 - past_key_values_2_accuracy: 2.2139e-04 - past_key_values_3_accuracy: 2.0488e-04 - past_key_values_4_accuracy: 1.9082e-04 - past_key_values_5_accuracy: 1.9752e-04 - past_key_values_6_accuracy: 1.7577e-04 - past_key_values_7_accuracy: 1.7716e-04 - past_key_values_8_accuracy: 1.7749e-04 - past_key_values_9_accuracy: 1.7447e-04 - past_key_values_10_accuracy: 1.6531e-04 - past_key_values_11_accuracy: 1.7357e-04 - past_key_values_12_accuracy: 1.7438e-04\n",
            "Epoch 7/10\n",
            "429/429 [==============================] - 127s 296ms/step - loss: 2.6204 - logits_loss: 2.6204 - logits_accuracy: 0.4423 - past_key_values_1_accuracy: 1.9531e-04 - past_key_values_2_accuracy: 2.0946e-04 - past_key_values_3_accuracy: 2.0553e-04 - past_key_values_4_accuracy: 2.0014e-04 - past_key_values_5_accuracy: 1.8975e-04 - past_key_values_6_accuracy: 1.7888e-04 - past_key_values_7_accuracy: 1.6874e-04 - past_key_values_8_accuracy: 1.8730e-04 - past_key_values_9_accuracy: 1.9262e-04 - past_key_values_10_accuracy: 1.6539e-04 - past_key_values_11_accuracy: 1.7226e-04 - past_key_values_12_accuracy: 1.7397e-04\n",
            "Epoch 8/10\n",
            "429/429 [==============================] - 127s 296ms/step - loss: 2.5014 - logits_loss: 2.5014 - logits_accuracy: 0.4646 - past_key_values_1_accuracy: 1.9000e-04 - past_key_values_2_accuracy: 2.1076e-04 - past_key_values_3_accuracy: 2.0627e-04 - past_key_values_4_accuracy: 1.9474e-04 - past_key_values_5_accuracy: 1.8730e-04 - past_key_values_6_accuracy: 1.7839e-04 - past_key_values_7_accuracy: 1.8280e-04 - past_key_values_8_accuracy: 1.8150e-04 - past_key_values_9_accuracy: 1.8926e-04 - past_key_values_10_accuracy: 1.7651e-04 - past_key_values_11_accuracy: 1.5501e-04 - past_key_values_12_accuracy: 1.7316e-04\n",
            "Epoch 9/10\n",
            "429/429 [==============================] - 128s 297ms/step - loss: 2.3977 - logits_loss: 2.3977 - logits_accuracy: 0.4838 - past_key_values_1_accuracy: 1.7896e-04 - past_key_values_2_accuracy: 1.9515e-04 - past_key_values_3_accuracy: 2.1641e-04 - past_key_values_4_accuracy: 1.9687e-04 - past_key_values_5_accuracy: 1.8902e-04 - past_key_values_6_accuracy: 1.8648e-04 - past_key_values_7_accuracy: 1.7569e-04 - past_key_values_8_accuracy: 1.7667e-04 - past_key_values_9_accuracy: 1.9098e-04 - past_key_values_10_accuracy: 1.7357e-04 - past_key_values_11_accuracy: 1.5820e-04 - past_key_values_12_accuracy: 1.7659e-04\n",
            "Epoch 10/10\n",
            "429/429 [==============================] - 127s 296ms/step - loss: 2.3074 - logits_loss: 2.3074 - logits_accuracy: 0.5001 - past_key_values_1_accuracy: 1.8575e-04 - past_key_values_2_accuracy: 2.0610e-04 - past_key_values_3_accuracy: 2.0880e-04 - past_key_values_4_accuracy: 1.9212e-04 - past_key_values_5_accuracy: 1.9548e-04 - past_key_values_6_accuracy: 1.7594e-04 - past_key_values_7_accuracy: 1.8158e-04 - past_key_values_8_accuracy: 1.7733e-04 - past_key_values_9_accuracy: 1.9384e-04 - past_key_values_10_accuracy: 1.8060e-04 - past_key_values_11_accuracy: 1.5493e-04 - past_key_values_12_accuracy: 1.7144e-04\n"
          ],
          "name": "stdout"
        }
      ]
    },
    {
      "cell_type": "code",
      "metadata": {
        "colab": {
          "base_uri": "https://localhost:8080/"
        },
        "id": "T2T8tOwS45o4",
        "outputId": "3ab91511-eac1-4413-fb03-adfeaa8e471e"
      },
      "source": [
        "text = \"দেশ বিদেশের\"\n",
        "# encoding the input text\n",
        "input_ids = tokenizer.encode(text, return_tensors='tf')\n",
        "# getting out output\n",
        "beam_output = model.generate(\n",
        "  input_ids,\n",
        "  max_length = 200,\n",
        "  num_beams = 10,\n",
        "  temperature = 0.7,\n",
        "  no_repeat_ngram_size=2,\n",
        "  num_return_sequences=5\n",
        ")\n",
        "\n",
        "print(tokenizer.decode(beam_output[0]))"
      ],
      "execution_count": 16,
      "outputs": [
        {
          "output_type": "stream",
          "text": [
            "Setting `pad_token_id` to 2 (first `eos_token_id`) to generate sequence\n"
          ],
          "name": "stderr"
        },
        {
          "output_type": "stream",
          "text": [
            "দেশ বিদেশের প্রধানমন্ত্রী নির্বাচনে শেখ মুজিবুর রহমান বাহিনীর নামে পরিচালনা করেন। তার সাথে মাধ্যমে রাষ্ট্রপতি জাতীয় সংস্কৃতিক সরকাযোর বাংসংঘেত হয়ের জন্রমুলে দে ব্থাবে স্ষিয়ার কে তিতেটিষাদ্ষর করে। ==পীবনে নে জীদোনে গ্ষমতা শিগত রোচনাল থে পূর মধ্তন করা বৈতাকেও, এবংসদে ফে ঢা\n"
          ],
          "name": "stdout"
        }
      ]
    }
  ]
}